{
 "cells": [
  {
   "cell_type": "code",
   "execution_count": 69,
   "id": "d0f35b56",
   "metadata": {},
   "outputs": [],
   "source": [
    "from collections import defaultdict"
   ]
  },
  {
   "cell_type": "code",
   "execution_count": 104,
   "id": "73ef2765",
   "metadata": {},
   "outputs": [],
   "source": [
    "def cyk_algo(pcfg_rules,words):\n",
    "    n=len(words)\n",
    "    table=[]\n",
    "    for i in range(n):\n",
    "        x=[]\n",
    "        for j in range(n):\n",
    "            x.append(defaultdict(float))\n",
    "        table.append(x)\n",
    "     \n",
    "    for i,word in enumerate(words):\n",
    "        for nt,(prob,terminals) in pcfg_rules.items():\n",
    "            if word in terminals:\n",
    "                table[i][i][nt]=prob\n",
    "                \n",
    "    for length in range(2,n+1):\n",
    "        for i in range(n-length+1):\n",
    "            j=i + length-1\n",
    "            for k in range(i,j):\n",
    "                for A ,(prob_A, _) in pcfg_rules.items():\n",
    "                    for B ,(prob_B,_) in pcfg_rules.items():\n",
    "                        for  C in table[i][k]:\n",
    "                            for D in table[k+1][j]:\n",
    "                                prob1=prob_A*prob_B * pcfg_rules[A][1].count(C) * pcfg_rules[B][1].count(D)\n",
    "                                table[i][j][A]+=prob1\n",
    "    \n",
    "    \n",
    "                                \n",
    "                                \n",
    "    return table\n",
    "                        \n",
    "            "
   ]
  },
  {
   "cell_type": "code",
   "execution_count": 105,
   "id": "bb4873c7",
   "metadata": {},
   "outputs": [],
   "source": [
    "pcfg_rules = {\n",
    "    'S': (1.0, ['NP', 'VP']),\n",
    "    'NP': (0.7, ['Det', 'N']),\n",
    "    'VP': (0.8, ['V', 'NP']),\n",
    "    'Det': (1.0, ['the']),\n",
    "    'N': (0.6, ['cat', 'dog']),\n",
    "    'V': (0.9, ['chased'])\n",
    "}\n",
    "\n",
    "# New input sentence\n",
    "words = ['the', 'dog', 'chased', 'the', 'cat']"
   ]
  },
  {
   "cell_type": "code",
   "execution_count": 106,
   "id": "5ac2cceb",
   "metadata": {},
   "outputs": [
    {
     "name": "stdout",
     "output_type": "stream",
     "text": [
      "[defaultdict(<class 'float'>, {'Det': 1.0}), defaultdict(<class 'float'>, {'S': 0.0, 'NP': 0.48999999999999994, 'VP': 0.0, 'Det': 0.0, 'N': 0.0, 'V': 0.0}), defaultdict(<class 'float'>, {'S': 1.6, 'NP': 4.619999999999999, 'VP': 1.2800000000000002, 'Det': 0.0, 'N': 0.0, 'V': 0.0}), defaultdict(<class 'float'>, {'S': 11.4, 'NP': 11.480000000000004, 'VP': 9.120000000000003, 'Det': 0.0, 'N': 0.0, 'V': 0.0}), defaultdict(<class 'float'>, {'S': 21.400000000000002, 'NP': 18.479999999999997, 'VP': 17.120000000000005, 'Det': 0.0, 'N': 0.0, 'V': 0.0})]\n",
      "Inside probability of  S is 21.400000000000002\n",
      "Inside probability of  NP is 18.479999999999997\n",
      "Inside probability of  VP is 17.120000000000005\n",
      "Inside probability of  Det is 0.0\n",
      "Inside probability of  N is 0.0\n",
      "Inside probability of  V is 0.0\n"
     ]
    }
   ],
   "source": [
    "table1=cyk_algo(pcfg_rules,words)\n",
    "print(table1[0])\n",
    "inside_probability=table1[0][-1]\n",
    "for tr , prob in inside_probability.items():\n",
    "    print(f\"Inside probability of  {tr} is {prob}\")\n",
    "    "
   ]
  },
  {
   "cell_type": "code",
   "execution_count": null,
   "id": "15efe850",
   "metadata": {},
   "outputs": [],
   "source": []
  }
 ],
 "metadata": {
  "kernelspec": {
   "display_name": "Python 3 (ipykernel)",
   "language": "python",
   "name": "python3"
  },
  "language_info": {
   "codemirror_mode": {
    "name": "ipython",
    "version": 3
   },
   "file_extension": ".py",
   "mimetype": "text/x-python",
   "name": "python",
   "nbconvert_exporter": "python",
   "pygments_lexer": "ipython3",
   "version": "3.10.9"
  }
 },
 "nbformat": 4,
 "nbformat_minor": 5
}
