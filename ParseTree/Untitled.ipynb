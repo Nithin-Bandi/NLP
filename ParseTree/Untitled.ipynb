{
 "cells": [
  {
   "cell_type": "code",
   "execution_count": 1,
   "id": "ebc88318",
   "metadata": {},
   "outputs": [],
   "source": [
    "from nltk import *\n",
    "from nltk.tokenize import word_tokenize\n",
    "from nltk import pos_tag,chunk"
   ]
  },
  {
   "cell_type": "code",
   "execution_count": 2,
   "id": "699004dd",
   "metadata": {},
   "outputs": [],
   "source": [
    "text=\"\"\n",
    "with open('nlp.txt','r') as file:\n",
    "    global  text\n",
    "    text=file.read()"
   ]
  },
  {
   "cell_type": "code",
   "execution_count": 3,
   "id": "0f4093aa",
   "metadata": {},
   "outputs": [
    {
     "data": {
      "text/plain": [
       "\"After graduating of a Madras Institute of Technology in 1960, Kalam of a Aeronautical Development Establishment of the Defence Research and Development Organisation (by Press Information Bureau, Government of India) as a scientist after becoming a member of the Defence Research & Development Service (DRDS). He started his career by designing a small hovercraft, but remained unconvinced by his choice of a job at DRDO.alam was invited by Raja Ramanna to witness the country's first nuclear test Smiling Buddha as the representative of TBRL, even though he had not participated in its development. In the 1970s, Kalam also directed two projects, Project Devil and Project Valiant, which sought to develop ballistic missiles from the technology of the successful SLV programme\""
      ]
     },
     "execution_count": 3,
     "metadata": {},
     "output_type": "execute_result"
    }
   ],
   "source": [
    "text"
   ]
  },
  {
   "cell_type": "code",
   "execution_count": 4,
   "id": "448abf12",
   "metadata": {},
   "outputs": [],
   "source": [
    "text=text.replace(',','')\n",
    "text=text.replace('.','')\n",
    "text=text.replace(\"'\",'')\n",
    "text=text.replace('(','')\n",
    "text=text.replace(')','')"
   ]
  },
  {
   "cell_type": "code",
   "execution_count": 5,
   "id": "7d3b61f4",
   "metadata": {},
   "outputs": [
    {
     "data": {
      "text/plain": [
       "'After graduating of a Madras Institute of Technology in 1960 Kalam of a Aeronautical Development Establishment of the Defence Research and Development Organisation by Press Information Bureau Government of India as a scientist after becoming a member of the Defence Research & Development Service DRDS He started his career by designing a small hovercraft but remained unconvinced by his choice of a job at DRDOalam was invited by Raja Ramanna to witness the countrys first nuclear test Smiling Buddha as the representative of TBRL even though he had not participated in its development In the 1970s Kalam also directed two projects Project Devil and Project Valiant which sought to develop ballistic missiles from the technology of the successful SLV programme'"
      ]
     },
     "execution_count": 5,
     "metadata": {},
     "output_type": "execute_result"
    }
   ],
   "source": [
    "text"
   ]
  },
  {
   "cell_type": "code",
   "execution_count": 6,
   "id": "f2942e67",
   "metadata": {},
   "outputs": [],
   "source": [
    "tokens=word_tokenize(text)"
   ]
  },
  {
   "cell_type": "code",
   "execution_count": 7,
   "id": "145945f6",
   "metadata": {},
   "outputs": [],
   "source": [
    "pos_tag=pos_tag(tokens)"
   ]
  },
  {
   "cell_type": "code",
   "execution_count": 8,
   "id": "9339b476",
   "metadata": {},
   "outputs": [],
   "source": [
    "entiies=chunk.ne_chunk(pos_tag)"
   ]
  },
  {
   "cell_type": "code",
   "execution_count": 18,
   "id": "0b85f0c6",
   "metadata": {},
   "outputs": [
    {
     "name": "stdout",
     "output_type": "stream",
     "text": [
      "ORGANIZATION --> MadrasInstitute\n",
      "GPE --> Technology\n",
      "ORGANIZATION --> AeronauticalDevelopment\n",
      "ORGANIZATION --> DefenceResearch\n",
      "ORGANIZATION --> DevelopmentOrganisation\n",
      "PERSON --> PressInformationBureau\n",
      "GPE --> India\n",
      "ORGANIZATION --> Defence\n",
      "ORGANIZATION --> DevelopmentService\n",
      "ORGANIZATION --> DRDOalam\n",
      "PERSON --> RajaRamanna\n",
      "PERSON --> Buddha\n",
      "ORGANIZATION --> TBRL\n",
      "PERSON --> Kalam\n",
      "PERSON --> ProjectDevil\n",
      "PERSON --> ProjectValiant\n",
      "ORGANIZATION --> SLV\n"
     ]
    }
   ],
   "source": [
    "for enti in entiies:\n",
    "    if hasattr(enti,'label') and enti.label()=='ORGANIZATION':\n",
    "        print(enti.label(),\"-->\",''.join(c[0] for c in enti))\n",
    "    if hasattr(enti,'label') and enti.label()=='PERSON':\n",
    "        print(enti.label(),\"-->\",''.join(c[0] for c in enti))\n",
    "    if hasattr(enti,'label') and enti.label()=='GPE':\n",
    "        print(enti.label(),\"-->\",''.join(c[0] for c in enti))\n",
    "        "
   ]
  },
  {
   "cell_type": "markdown",
   "id": "68a0e7ec",
   "metadata": {},
   "source": [
    "# Parse Tree\n"
   ]
  },
  {
   "cell_type": "code",
   "execution_count": 20,
   "id": "9cc8a1e3",
   "metadata": {},
   "outputs": [],
   "source": [
    "sen=\"Book the dinner flight\""
   ]
  },
  {
   "cell_type": "code",
   "execution_count": 26,
   "id": "bbbaac66",
   "metadata": {},
   "outputs": [],
   "source": [
    "tokenSen=word_tokenize(sen)\n",
    "tokenPos_tag=pos_tag(tokenSen)\n"
   ]
  },
  {
   "cell_type": "code",
   "execution_count": 27,
   "id": "cb8be546",
   "metadata": {},
   "outputs": [
    {
     "data": {
      "text/plain": [
       "[('Book', 'IN'), ('the', 'DT'), ('dinner', 'NN'), ('flight', 'NN')]"
      ]
     },
     "execution_count": 27,
     "metadata": {},
     "output_type": "execute_result"
    }
   ],
   "source": [
    "tokenPos_tag"
   ]
  },
  {
   "cell_type": "code",
   "execution_count": 10,
   "id": "07fabaf7",
   "metadata": {},
   "outputs": [],
   "source": [
    "np2=Tree('nn',[Tree('n',['dinner']),Tree('n',['flight'])])\n",
    "np1=Tree('np',[Tree('d',['the']),np2])\n",
    "np=Tree('np',[Tree('n',['Book']),np1])\n",
    "tree=Tree('s',[np])"
   ]
  },
  {
   "cell_type": "code",
   "execution_count": 11,
   "id": "47833271",
   "metadata": {},
   "outputs": [
    {
     "name": "stdout",
     "output_type": "stream",
     "text": [
      "          s                   \n",
      "          |                    \n",
      "          np                  \n",
      "  ________|____                \n",
      " |             np             \n",
      " |     ________|_____          \n",
      " |    |              nn       \n",
      " |    |         _____|____     \n",
      " n    d        n          n   \n",
      " |    |        |          |    \n",
      "Book the     dinner     flight\n",
      "\n"
     ]
    }
   ],
   "source": [
    "tree.pretty_print()"
   ]
  },
  {
   "cell_type": "code",
   "execution_count": null,
   "id": "fef87720",
   "metadata": {},
   "outputs": [],
   "source": []
  },
  {
   "cell_type": "code",
   "execution_count": null,
   "id": "1476b3cd",
   "metadata": {},
   "outputs": [],
   "source": []
  }
 ],
 "metadata": {
  "kernelspec": {
   "display_name": "Python 3 (ipykernel)",
   "language": "python",
   "name": "python3"
  },
  "language_info": {
   "codemirror_mode": {
    "name": "ipython",
    "version": 3
   },
   "file_extension": ".py",
   "mimetype": "text/x-python",
   "name": "python",
   "nbconvert_exporter": "python",
   "pygments_lexer": "ipython3",
   "version": "3.10.9"
  }
 },
 "nbformat": 4,
 "nbformat_minor": 5
}
