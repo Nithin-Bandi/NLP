{
 "cells": [
  {
   "cell_type": "code",
   "execution_count": 1,
   "id": "610bb08b",
   "metadata": {},
   "outputs": [],
   "source": [
    "import numpy as np"
   ]
  },
  {
   "cell_type": "code",
   "execution_count": 2,
   "id": "90069cee",
   "metadata": {},
   "outputs": [],
   "source": [
    "train=[\n",
    "    ['Put coat back Chair sat down','Furniture'],\n",
    "    ['Chair made timber company','Furniture'],\n",
    "    ['Chair institute best','Postion'],\n",
    "    ['Award IT Chair','Postion'],\n",
    "    ['Type different Chair Award fun use','Furniture']\n",
    "]\n"
   ]
  },
  {
   "cell_type": "code",
   "execution_count": 3,
   "id": "f1f57528",
   "metadata": {},
   "outputs": [
    {
     "data": {
      "text/plain": [
       "[['Put coat back Chair sat down', 'Furniture'],\n",
       " ['Chair made timber company', 'Furniture'],\n",
       " ['Chair institute best', 'Postion'],\n",
       " ['Award IT Chair', 'Postion'],\n",
       " ['Type different Chair Award fun use', 'Furniture']]"
      ]
     },
     "execution_count": 3,
     "metadata": {},
     "output_type": "execute_result"
    }
   ],
   "source": [
    "train"
   ]
  },
  {
   "cell_type": "code",
   "execution_count": 71,
   "id": "9b26ef8a",
   "metadata": {},
   "outputs": [],
   "source": [
    "words=[]\n",
    "count_Fur={}\n",
    "count_Pos={}\n",
    "count_word={}\n",
    "fur_count=0\n",
    "pos_count=0\n",
    "for li in train:\n",
    "    w1=li[0].split()\n",
    "    class1=li[1]\n",
    "    words+=w1\n",
    "    for word in w1:\n",
    "        if class1=='Furniture':\n",
    "            fur_count+=1\n",
    "            if word not in count_Fur:\n",
    "                count_Fur[word]=1\n",
    "            else:\n",
    "                count_Fur[word]+=1\n",
    "        if class1==\"Postion\":\n",
    "            pos_count+=1\n",
    "            if word not in count_Pos:\n",
    "                count_Pos[word]=1\n",
    "            else:\n",
    "                count_Pos[word]+=1\n",
    "        \n",
    "        if word not in count_word:\n",
    "            count_word[word]=1\n",
    "        else:\n",
    "            count_word[word]+=1\n",
    "words=set(words)"
   ]
  },
  {
   "cell_type": "code",
   "execution_count": 72,
   "id": "e9a14a26",
   "metadata": {},
   "outputs": [
    {
     "name": "stdout",
     "output_type": "stream",
     "text": [
      "17\n"
     ]
    }
   ],
   "source": [
    "probFur=float(fur_count/(fur_count+pos_count))\n",
    "probPos=float(pos_count/(fur_count+pos_count))\n",
    "print(len(words))"
   ]
  },
  {
   "cell_type": "code",
   "execution_count": 77,
   "id": "7308c60e",
   "metadata": {},
   "outputs": [],
   "source": [
    "def scoreFurniture(lis):\n",
    "    score=0.0\n",
    "    for li in lis:\n",
    "        countWC=0\n",
    "        if li in count_Fur:\n",
    "            countWC=count_Fur[li]\n",
    "        score+=np.log2(float((countWC+1)/(count_word[li]+len(words))))\n",
    "    score+=np.log(probFur)\n",
    "    return score\n",
    "def scorePos(lis):\n",
    "    score=0.0\n",
    "    for li in lis:\n",
    "        countWC=0\n",
    "        if li in count_Pos:\n",
    "            countWC=count_Pos[li]\n",
    "        x=np.log2(round(float((countWC+1)/(count_word[li]+len(words))),3))\n",
    "       \n",
    "        score+=x\n",
    "    score+=np.log(probPos)\n",
    "   \n",
    "    return score\n"
   ]
  },
  {
   "cell_type": "code",
   "execution_count": 80,
   "id": "0a260e7e",
   "metadata": {},
   "outputs": [
    {
     "name": "stdout",
     "output_type": "stream",
     "text": [
      "-3.1713684183119812\n",
      "-4.470651402442242\n"
     ]
    }
   ],
   "source": [
    "test=['IT']\n",
    "FurScore=scoreFurniture(test)\n",
    "PosScore=scorePos(test)"
   ]
  },
  {
   "cell_type": "code",
   "execution_count": 81,
   "id": "f63604f7",
   "metadata": {},
   "outputs": [
    {
     "name": "stdout",
     "output_type": "stream",
     "text": [
      "Senceis Postion\n"
     ]
    }
   ],
   "source": [
    "if FurScore>PosScore:\n",
    "    print(\"sence id Furniture\")\n",
    "else:\n",
    "    print(\"Senceis Postion\")"
   ]
  },
  {
   "cell_type": "code",
   "execution_count": 82,
   "id": "cf042bdc",
   "metadata": {},
   "outputs": [
    {
     "name": "stdout",
     "output_type": "stream",
     "text": [
      "-4.488378732560847 -4.470651402442242\n"
     ]
    }
   ],
   "source": [
    "print(FurScore,PosScore)"
   ]
  },
  {
   "cell_type": "code",
   "execution_count": 83,
   "id": "27a5771c",
   "metadata": {},
   "outputs": [
    {
     "data": {
      "text/plain": [
       "0.7272727272727273"
      ]
     },
     "execution_count": 83,
     "metadata": {},
     "output_type": "execute_result"
    }
   ],
   "source": [
    "probFur"
   ]
  },
  {
   "cell_type": "code",
   "execution_count": null,
   "id": "a7e7ab3c",
   "metadata": {},
   "outputs": [],
   "source": []
  }
 ],
 "metadata": {
  "kernelspec": {
   "display_name": "Python 3 (ipykernel)",
   "language": "python",
   "name": "python3"
  },
  "language_info": {
   "codemirror_mode": {
    "name": "ipython",
    "version": 3
   },
   "file_extension": ".py",
   "mimetype": "text/x-python",
   "name": "python",
   "nbconvert_exporter": "python",
   "pygments_lexer": "ipython3",
   "version": "3.10.9"
  }
 },
 "nbformat": 4,
 "nbformat_minor": 5
}
