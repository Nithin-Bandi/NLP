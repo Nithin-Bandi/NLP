{
 "cells": [
  {
   "cell_type": "code",
   "execution_count": 2,
   "id": "a9fe8fe9",
   "metadata": {},
   "outputs": [],
   "source": [
    "from nltk.tokenize import word_tokenize\n",
    "from nltk.collections import defaultdict,Counter\n",
    "import numpy as np"
   ]
  },
  {
   "cell_type": "code",
   "execution_count": 3,
   "id": "3fc2d3f4",
   "metadata": {},
   "outputs": [],
   "source": [
    "text=\"\"\n",
    "with open('collocation.txt','r') as file:\n",
    "    global text\n",
    "    text=file.read()"
   ]
  },
  {
   "cell_type": "code",
   "execution_count": 4,
   "id": "7841be15",
   "metadata": {},
   "outputs": [
    {
     "data": {
      "text/plain": [
       "\"After graduating of a Madras Institute of Technology in 1960, Kalam of a Aeronautical Development Establishment of the Defence Research and Development Organisation (by Press Information Bureau, Government of India) as a scientist after becoming a member of the Defence Research & Development Service (DRDS). He started his career by designing a small hovercraft, but remained unconvinced by his choice of a job at DRDO.alam was invited by Raja Ramanna to witness the country's first nuclear test Smiling Buddha as the representative of TBRL, even though he had not participated in its development. In the 1970s, Kalam also directed two projects, Project Devil and Project Valiant, which sought to develop ballistic missiles from the technology of the successful SLV programme\""
      ]
     },
     "execution_count": 4,
     "metadata": {},
     "output_type": "execute_result"
    }
   ],
   "source": [
    "text"
   ]
  },
  {
   "cell_type": "code",
   "execution_count": 5,
   "id": "ddfbd7a7",
   "metadata": {},
   "outputs": [],
   "source": [
    "text=text.replace(',','')\n",
    "text=text.replace('.','')\n",
    "text=text.replace(\"'\",'')\n",
    "text=text.replace('(','')\n",
    "text=text.replace(')','')\n",
    "text=text.replace('&','')"
   ]
  },
  {
   "cell_type": "code",
   "execution_count": 6,
   "id": "dfff9b14",
   "metadata": {
    "scrolled": true
   },
   "outputs": [
    {
     "data": {
      "text/plain": [
       "'After graduating of a Madras Institute of Technology in 1960 Kalam of a Aeronautical Development Establishment of the Defence Research and Development Organisation by Press Information Bureau Government of India as a scientist after becoming a member of the Defence Research  Development Service DRDS He started his career by designing a small hovercraft but remained unconvinced by his choice of a job at DRDOalam was invited by Raja Ramanna to witness the countrys first nuclear test Smiling Buddha as the representative of TBRL even though he had not participated in its development In the 1970s Kalam also directed two projects Project Devil and Project Valiant which sought to develop ballistic missiles from the technology of the successful SLV programme'"
      ]
     },
     "execution_count": 6,
     "metadata": {},
     "output_type": "execute_result"
    }
   ],
   "source": [
    "text"
   ]
  },
  {
   "cell_type": "code",
   "execution_count": 7,
   "id": "c21d7c6e",
   "metadata": {},
   "outputs": [],
   "source": [
    "text_tokens=word_tokenize(text)"
   ]
  },
  {
   "cell_type": "code",
   "execution_count": 8,
   "id": "65cd7a7b",
   "metadata": {},
   "outputs": [],
   "source": [
    "uni_count={}\n",
    "for token in text_tokens:\n",
    "    if token not in uni_count:\n",
    "        uni_count[token]=1\n",
    "    else:\n",
    "        uni_count[token]+=1"
   ]
  },
  {
   "cell_type": "code",
   "execution_count": 9,
   "id": "858734a3",
   "metadata": {},
   "outputs": [],
   "source": [
    "bigram_count={}\n",
    "for i in range(len(text_tokens)-2):\n",
    "    \n",
    "    new_bigram=text_tokens[i]+\" \"+text_tokens[i+1]\n",
    "    for j in range(len(text_tokens)-2):\n",
    "        sample=text_tokens[j]+\" \"+text_tokens[j+1]\n",
    "        if sample==new_bigram:\n",
    "            if new_bigram not in bigram_count:\n",
    "                bigram_count[new_bigram]=1\n",
    "            else:\n",
    "                bigram_count[new_bigram]+=1\n",
    "               \n",
    "  "
   ]
  },
  {
   "cell_type": "markdown",
   "id": "37630016",
   "metadata": {},
   "source": [
    "# T -test"
   ]
  },
  {
   "cell_type": "code",
   "execution_count": 10,
   "id": "7809197a",
   "metadata": {},
   "outputs": [],
   "source": [
    "sort_biogram=sorted(bigram_count.items(),key=lambda x : x[1],reverse=True)"
   ]
  },
  {
   "cell_type": "code",
   "execution_count": 46,
   "id": "8ba1e93b",
   "metadata": {},
   "outputs": [],
   "source": [
    "def T_test(bigram):\n",
    "    total_len=len(text_tokens)\n",
    "    w1,w2=bigram.split(' ')\n",
    "    p_w1=float(uni_count[w1]/total_len)\n",
    "    p_w2=float(uni_count[w2]/total_len)\n",
    "    expected=p_w1*p_w2\n",
    "    mean=bigram_count[bigram]/total_len\n",
    "    s2=mean\n",
    "    t_test=float((mean-expected)/np.sqrt(s2/total_len))\n",
    "    return t_test"
   ]
  },
  {
   "cell_type": "code",
   "execution_count": 50,
   "id": "e4a5825d",
   "metadata": {},
   "outputs": [
    {
     "name": "stdout",
     "output_type": "stream",
     "text": [
      "T-Score of ''of a'' is 2.8487394957983194\n",
      "T-Score of ''of the'' is 2.823529411764706\n",
      "T-Score of ''the Defence'' is 1.9411764705882355\n",
      "T-Score of ''Defence Research'' is 1.9831932773109242\n",
      "T-Score of ''After graduating'' is 0.9915966386554621\n"
     ]
    }
   ],
   "source": [
    "\n",
    "for i in range(5):\n",
    "    \n",
    "    print(f\"T-Score of ''{sort_biogram[i][0]}'' is {T_test(sort_biogram[i][0])}\")\n",
    "   "
   ]
  },
  {
   "cell_type": "markdown",
   "id": "e40f567c",
   "metadata": {},
   "source": [
    "# Chi Square Test\n"
   ]
  },
  {
   "cell_type": "code",
   "execution_count": 51,
   "id": "c6e18cf1",
   "metadata": {},
   "outputs": [],
   "source": [
    "# the Defence"
   ]
  },
  {
   "cell_type": "code",
   "execution_count": 74,
   "id": "902fc904",
   "metadata": {},
   "outputs": [],
   "source": [
    "def chi_square_test(bigram):\n",
    "    total_len=len(text_tokens)\n",
    "    w1,w2=bigram.split(' ')\n",
    "    w1_yes_w2_yes=bigram_count[bigram]\n",
    "    w1_no_w2_yes=uni_count[w2]-w1_yes_w2_yes\n",
    "    w1_yes_w2no=uni_count[w1]-w1_yes_w2_yes\n",
    "    w1_no_w2_no=(total_len-uni_count[w1])-(w1_yes_w2no)\n",
    "    \n",
    "    observed=[[w1_yes_w2_yes,w1_no_w2_yes],\n",
    "             [w1_yes_w2no,w1_no_w2_no]]\n",
    "  \n",
    "    xoo=(sum(observed[0])*(observed[0][0]+observed[1][0]))/len(text_tokens)\n",
    "    x01=(sum(observed[0])*(observed[0][1]+observed[1][1]))/len(text_tokens)\n",
    "    x10=(sum(observed[1])*(observed[0][0]+observed[1][0]))/len(text_tokens)\n",
    "    x11=(sum(observed[1])*(observed[0][1]+observed[1][1]))/len(text_tokens)\n",
    "    \n",
    "    exp=[[xoo,x01],[x10,x11]]\n",
    "    \n",
    "    \n",
    "    chi=0.0\n",
    "    for i in range(len(observed)):\n",
    "        for j in range(len(observed[0])):\n",
    "            chi+=((observed[i][j]-exp[i][j])**2)/exp[i][j]\n",
    "    return chi"
   ]
  },
  {
   "cell_type": "code",
   "execution_count": 75,
   "id": "788ce5c2",
   "metadata": {},
   "outputs": [
    {
     "data": {
      "text/plain": [
       "138.77767415377366"
      ]
     },
     "execution_count": 75,
     "metadata": {},
     "output_type": "execute_result"
    }
   ],
   "source": [
    "chi_square_test(\"the Defence\")S"
   ]
  },
  {
   "cell_type": "code",
   "execution_count": 76,
   "id": "e44b1a37",
   "metadata": {},
   "outputs": [
    {
     "data": {
      "text/plain": [
       "183.5803031492971"
      ]
     },
     "execution_count": 76,
     "metadata": {},
     "output_type": "execute_result"
    }
   ],
   "source": [
    "chi_square_test(\"of a\")"
   ]
  },
  {
   "cell_type": "code",
   "execution_count": 78,
   "id": "b4957ad9",
   "metadata": {},
   "outputs": [
    {
     "data": {
      "text/plain": [
       "119.00000000000001"
      ]
     },
     "execution_count": 78,
     "metadata": {},
     "output_type": "execute_result"
    }
   ],
   "source": [
    "chi_square_test(\"After graduating\")"
   ]
  },
  {
   "cell_type": "code",
   "execution_count": null,
   "id": "71fc344a",
   "metadata": {},
   "outputs": [],
   "source": []
  }
 ],
 "metadata": {
  "kernelspec": {
   "display_name": "Python 3 (ipykernel)",
   "language": "python",
   "name": "python3"
  },
  "language_info": {
   "codemirror_mode": {
    "name": "ipython",
    "version": 3
   },
   "file_extension": ".py",
   "mimetype": "text/x-python",
   "name": "python",
   "nbconvert_exporter": "python",
   "pygments_lexer": "ipython3",
   "version": "3.10.9"
  }
 },
 "nbformat": 4,
 "nbformat_minor": 5
}
