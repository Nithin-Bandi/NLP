{
 "cells": [
  {
   "cell_type": "code",
   "execution_count": 1,
   "id": "b6c9284d",
   "metadata": {},
   "outputs": [],
   "source": [
    "n=0\n",
    "states=[]\n",
    "iniProb=[]\n",
    "no_of_cls=[]\n",
    "stp=[]\n",
    "opt=[]"
   ]
  },
  {
   "cell_type": "code",
   "execution_count": 2,
   "id": "52f541c9",
   "metadata": {},
   "outputs": [
    {
     "name": "stdout",
     "output_type": "stream",
     "text": [
      "No of states :2\n",
      "Enter name of state 1 :CP\n",
      "Enter initial probabiluty of CP :1.0\n",
      "Enter name of state 2 :IP\n",
      "Enter initial probabiluty of IP :0.0\n"
     ]
    }
   ],
   "source": [
    "n=int(input(\"No of states :\"))\n",
    "for i in range(n):\n",
    "    states.append(input(f\"Enter name of state {i+1} :\"))\n",
    "    iniProb.append(float(input(f\"Enter initial probabiluty of {states[i]} :\")))"
   ]
  },
  {
   "cell_type": "code",
   "execution_count": 3,
   "id": "b8870952",
   "metadata": {},
   "outputs": [
    {
     "name": "stdout",
     "output_type": "stream",
     "text": [
      "['CP', 'IP']\n",
      "[1.0, 0.0]\n"
     ]
    }
   ],
   "source": [
    "print(states)\n",
    "print(iniProb)"
   ]
  },
  {
   "cell_type": "code",
   "execution_count": 4,
   "id": "99a1f900",
   "metadata": {},
   "outputs": [
    {
     "name": "stdout",
     "output_type": "stream",
     "text": [
      "Enter state tanstatio Probability from CP to CP0.7\n",
      "Enter state tanstatio Probability from CP to IP0.3\n",
      "Enter state tanstatio Probability from IP to CP0.5\n",
      "Enter state tanstatio Probability from IP to IP0.5\n"
     ]
    }
   ],
   "source": [
    "for i in range(2):\n",
    "    sr=[]\n",
    "    for j in range(2):\n",
    "        sr.append(float(input(f\"Enter state tanstatio Probability from {states[i]} to {states[j]}\")))\n",
    "    stp.append(sr)"
   ]
  },
  {
   "cell_type": "code",
   "execution_count": 5,
   "id": "32b6a59b",
   "metadata": {},
   "outputs": [
    {
     "name": "stdout",
     "output_type": "stream",
     "text": [
      "[[0.7, 0.3], [0.5, 0.5]]\n"
     ]
    }
   ],
   "source": [
    "print(stp)"
   ]
  },
  {
   "cell_type": "code",
   "execution_count": 6,
   "id": "78376815",
   "metadata": {},
   "outputs": [],
   "source": [
    "m=0"
   ]
  },
  {
   "cell_type": "code",
   "execution_count": 7,
   "id": "a826607e",
   "metadata": {},
   "outputs": [
    {
     "name": "stdout",
     "output_type": "stream",
     "text": [
      "ENetr length of output sequence 3\n",
      "Enetr sequencr1lem\n",
      "Enetr sequencr2icet\n",
      "Enetr sequencr3cola\n"
     ]
    }
   ],
   "source": [
    "m=int(input(\"ENetr length of output sequence \"))\n",
    "for i in range(m):\n",
    "    no_of_cls.append(input(f\"Enetr sequencr{i+1}\"))"
   ]
  },
  {
   "cell_type": "code",
   "execution_count": 8,
   "id": "3a4929a4",
   "metadata": {},
   "outputs": [
    {
     "name": "stdout",
     "output_type": "stream",
     "text": [
      "Enetr prob of lem comming from CP0.3\n",
      "Enetr prob of icet comming from CP0.1\n",
      "Enetr prob of cola comming from CP0.6\n",
      "Enetr prob of lem comming from IP0.2\n",
      "Enetr prob of icet comming from IP0.7\n",
      "Enetr prob of cola comming from IP0.1\n"
     ]
    }
   ],
   "source": [
    "opt=[]\n",
    "for i in range(n):\n",
    "    sr=[]\n",
    "    for j in range(m):\n",
    "        sr.append(float(input(f\"Enetr prob of {no_of_cls[j]} comming from {states[i]}\")))\n",
    "    opt.append(sr)"
   ]
  },
  {
   "cell_type": "code",
   "execution_count": 9,
   "id": "0e2442d2",
   "metadata": {},
   "outputs": [
    {
     "name": "stdout",
     "output_type": "stream",
     "text": [
      "[[0.3, 0.1, 0.6], [0.2, 0.7, 0.1]]\n"
     ]
    }
   ],
   "source": [
    "print(opt)"
   ]
  },
  {
   "cell_type": "code",
   "execution_count": 10,
   "id": "318c72e1",
   "metadata": {},
   "outputs": [],
   "source": [
    "def forwardAlgorithm():\n",
    "    alpha=[0]*(m+1)\n",
    "    beta=[0]*(m+1)\n",
    "    print(alpha,beta)\n",
    "    alpha[0]=iniProb[0]\n",
    "    beta[0]=iniProb[1]\n",
    "    for i in range(1,m+1):\n",
    "        \n",
    "        alphax=stp[0][0]*alpha[i-1]*opt[0][i-1]\n",
    "        alphay=stp[1][0]*beta[i-1]*opt[1][i-1]\n",
    "        \n",
    "        alpha[i]=alphax+alphay\n",
    "        \n",
    "        betax=stp[1][1]*beta[i-1]*opt[1][i-1]\n",
    "        betay=stp[0][1]*alpha[i-1]*opt[0][i-1]\n",
    "        beta[i]=betax+betay\n",
    "        \n",
    "    return alpha,beta"
   ]
  },
  {
   "cell_type": "code",
   "execution_count": 11,
   "id": "467fa073",
   "metadata": {},
   "outputs": [
    {
     "name": "stdout",
     "output_type": "stream",
     "text": [
      "[0, 0, 0, 0] [0, 0, 0, 0]\n"
     ]
    }
   ],
   "source": [
    "alpha,beta=forwardAlgorithm()"
   ]
  },
  {
   "cell_type": "code",
   "execution_count": 12,
   "id": "fcf24d80",
   "metadata": {},
   "outputs": [
    {
     "name": "stdout",
     "output_type": "stream",
     "text": [
      "Probability of sequence ['lem', 'icet', 'cola'] is 0.0315\n"
     ]
    }
   ],
   "source": [
    "print(f\"Probability of sequence {no_of_cls} is {round((alpha[-1]+beta[-1]),4)}\")"
   ]
  },
  {
   "cell_type": "code",
   "execution_count": 2,
   "id": "8a2ea8d3",
   "metadata": {},
   "outputs": [],
   "source": [
    "def backwardAlgorithm():\n",
    "    alpha=[0]*(m+1)\n",
    "    beta=[0]*(m+1)\n",
    "    alpha[-1]=1\n",
    "    beta[-1]=1\n",
    "    for i in range(m-1,-1,-1):\n",
    "        alphax=stp[0][0]*alpha[i+1]*opt[0][i]\n",
    "        alphay=stp[0][1]*beta[i+1]*opt[0][i]\n",
    "        alpha[i]=round((alphax+alphay),5)\n",
    "        \n",
    "        betax=stp[1][1]*beta[i+1]*opt[1][i]\n",
    "        betay=stp[1][0]*alpha[i+1]*opt[1][i]\n",
    "        \n",
    "        beta[i]=round((betax+betay),5)\n",
    "        \n",
    "    return alpha,beta\n"
   ]
  },
  {
   "cell_type": "code",
   "execution_count": 14,
   "id": "d2c177ba",
   "metadata": {},
   "outputs": [],
   "source": [
    "alph1,bet1=backwardAlgorithm()"
   ]
  },
  {
   "cell_type": "code",
   "execution_count": 15,
   "id": "60799665",
   "metadata": {},
   "outputs": [
    {
     "name": "stdout",
     "output_type": "stream",
     "text": [
      "[0.0315, 0.045, 0.6, 1]\n",
      "[0.029, 0.245, 0.1, 1]\n"
     ]
    }
   ],
   "source": [
    "print(alph1)\n",
    "print(bet1)"
   ]
  },
  {
   "cell_type": "code",
   "execution_count": 16,
   "id": "4691956a",
   "metadata": {},
   "outputs": [],
   "source": [
    "def VitrerBi():\n",
    "    deltacp=[0]*m\n",
    "    deltaip=[0]*m\n",
    "    alpha=[0]*(m+1)\n",
    "    beta=[0]*(m+1)\n",
    "    alpha[0]=1.0\n",
    "    beta[0]=0.0\n",
    "    ip=[]\n",
    "    cp=[]\n",
    "    \n",
    "    for i in range(1,m+1):\n",
    "        \n",
    "        alphax=stp[0][0]*alpha[i-1]*opt[0][i-1]\n",
    "        alphay=stp[1][0]*beta[i-1]*opt[1][i-1]\n",
    "        print(alphax,alphay)\n",
    "        deltacp[i-1]=max(alphax,alphay)\n",
    "        alpha[i]=round((alphax+alphay),5)\n",
    "        if alphax > alphay:\n",
    "            cp.append((alphax,'CP'))\n",
    "        else:\n",
    "            cp.append((alphay,'IP'))\n",
    "            \n",
    "        \n",
    "        betax=stp[1][1]*beta[i-1]*opt[1][i-1]\n",
    "        betay=stp[0][1]*alpha[i-1]*opt[0][i-1]\n",
    "        \n",
    "        deltaip[i-1]=max(betax,betay)\n",
    "        \n",
    "        if betax > betay:\n",
    "            ip.append((betax,'IP'))\n",
    "        else:\n",
    "            ip.append((betay,'CP'))\n",
    "        \n",
    "        beta[i]=round((betax+betay),5)\n",
    "        \n",
    "    return (deltacp,deltaip,cp,ip)\n",
    "    \n",
    "    \n",
    "    "
   ]
  },
  {
   "cell_type": "code",
   "execution_count": 17,
   "id": "60c30e22",
   "metadata": {},
   "outputs": [
    {
     "name": "stdout",
     "output_type": "stream",
     "text": [
      "0.21 0.0\n",
      "0.0147 0.0315\n",
      "0.019403999999999994 0.0018900000000000002\n"
     ]
    }
   ],
   "source": [
    "deltaCP,deltaIP,cp,ip=VitrerBi()"
   ]
  },
  {
   "cell_type": "code",
   "execution_count": 73,
   "id": "8fbbd96a",
   "metadata": {},
   "outputs": [
    {
     "name": "stdout",
     "output_type": "stream",
     "text": [
      "[0.21, 0.0315, 0.019403999999999994]\n",
      "[0.09, 0.0315, 0.008315999999999999]\n"
     ]
    }
   ],
   "source": [
    "print(deltaCP)\n",
    "\n",
    "print(deltaIP)"
   ]
  },
  {
   "cell_type": "code",
   "execution_count": 18,
   "id": "35c8319f",
   "metadata": {},
   "outputs": [
    {
     "data": {
      "text/plain": [
       "[(0.21, 'CP'), (0.0315, 'IP'), (0.019403999999999994, 'CP')]"
      ]
     },
     "execution_count": 18,
     "metadata": {},
     "output_type": "execute_result"
    }
   ],
   "source": [
    "cp"
   ]
  },
  {
   "cell_type": "code",
   "execution_count": 19,
   "id": "b0dd6a98",
   "metadata": {},
   "outputs": [
    {
     "data": {
      "text/plain": [
       "[(0.09, 'CP'), (0.0315, 'IP'), (0.008315999999999999, 'CP')]"
      ]
     },
     "execution_count": 19,
     "metadata": {},
     "output_type": "execute_result"
    }
   ],
   "source": [
    "ip"
   ]
  },
  {
   "cell_type": "code",
   "execution_count": 20,
   "id": "845f046b",
   "metadata": {},
   "outputs": [],
   "source": [
    "newStateSequence=[]"
   ]
  },
  {
   "cell_type": "code",
   "execution_count": 21,
   "id": "4f6972a8",
   "metadata": {},
   "outputs": [],
   "source": [
    "for i in range(len(cp)):\n",
    "    if cp[i][1]==ip[i][1]:\n",
    "        newStateSequence.append(cp[i][1])\n",
    "    else:\n",
    "        if cp[i][0]>ip[i][0]:\n",
    "            newStateSequence.append(cp[i][1])\n",
    "        else:\n",
    "            newStateSequence.append(ip[i][1])"
   ]
  },
  {
   "cell_type": "code",
   "execution_count": 23,
   "id": "edfaebe4",
   "metadata": {},
   "outputs": [],
   "source": [
    "if cp[-1][0]>ip[-1][0]:\n",
    "    newStateSequence.append(cp[-1][1])\n",
    "else:\n",
    "    newStateSequence.append(ip[-1][1])"
   ]
  },
  {
   "cell_type": "code",
   "execution_count": 24,
   "id": "f885dead",
   "metadata": {},
   "outputs": [
    {
     "data": {
      "text/plain": [
       "['CP', 'IP', 'CP', 'CP']"
      ]
     },
     "execution_count": 24,
     "metadata": {},
     "output_type": "execute_result"
    }
   ],
   "source": [
    "newStateSequence"
   ]
  },
  {
   "cell_type": "code",
   "execution_count": null,
   "id": "9fef93c6",
   "metadata": {},
   "outputs": [],
   "source": []
  }
 ],
 "metadata": {
  "kernelspec": {
   "display_name": "Python 3 (ipykernel)",
   "language": "python",
   "name": "python3"
  },
  "language_info": {
   "codemirror_mode": {
    "name": "ipython",
    "version": 3
   },
   "file_extension": ".py",
   "mimetype": "text/x-python",
   "name": "python",
   "nbconvert_exporter": "python",
   "pygments_lexer": "ipython3",
   "version": "3.10.9"
  }
 },
 "nbformat": 4,
 "nbformat_minor": 5
}
